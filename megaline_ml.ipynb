{
 "cells": [
  {
   "cell_type": "markdown",
   "metadata": {},
   "source": [
    "# Рекомендация тарифов"
   ]
  },
  {
   "cell_type": "markdown",
   "metadata": {},
   "source": [
    "В вашем распоряжении данные о поведении клиентов, которые уже перешли на эти тарифы (из проекта курса «Статистический анализ данных»). Нужно построить модель для задачи классификации, которая выберет подходящий тариф. Предобработка данных не понадобится — вы её уже сделали.\n",
    "\n",
    "Постройте модель с максимально большим значением *accuracy*. Чтобы сдать проект успешно, нужно довести долю правильных ответов по крайней мере до 0.75. Проверьте *accuracy* на тестовой выборке самостоятельно."
   ]
  },
  {
   "cell_type": "markdown",
   "metadata": {},
   "source": [
    "## Откройте и изучите файл"
   ]
  },
  {
   "cell_type": "code",
   "execution_count": 1,
   "metadata": {},
   "outputs": [],
   "source": [
    "# импортируем необходимые библиотеки Python для работы с данными и модели машинного обучения.\n",
    "import pandas as pd\n",
    "import numpy as np\n",
    "import matplotlib.pyplot as plt\n",
    "import seaborn as sns\n",
    "from sklearn.tree import DecisionTreeClassifier\n",
    "from sklearn.ensemble import RandomForestClassifier\n",
    "from sklearn.linear_model import LogisticRegression\n",
    "from sklearn.model_selection import train_test_split\n",
    "from sklearn.metrics import accuracy_score\n",
    "\n",
    "pd.options.display.float_format = '{:,.1f}'.format"
   ]
  },
  {
   "cell_type": "code",
   "execution_count": 2,
   "metadata": {},
   "outputs": [
    {
     "data": {
      "text/html": [
       "<div>\n",
       "<style scoped>\n",
       "    .dataframe tbody tr th:only-of-type {\n",
       "        vertical-align: middle;\n",
       "    }\n",
       "\n",
       "    .dataframe tbody tr th {\n",
       "        vertical-align: top;\n",
       "    }\n",
       "\n",
       "    .dataframe thead th {\n",
       "        text-align: right;\n",
       "    }\n",
       "</style>\n",
       "<table border=\"1\" class=\"dataframe\">\n",
       "  <thead>\n",
       "    <tr style=\"text-align: right;\">\n",
       "      <th></th>\n",
       "      <th>calls</th>\n",
       "      <th>minutes</th>\n",
       "      <th>messages</th>\n",
       "      <th>mb_used</th>\n",
       "      <th>is_ultra</th>\n",
       "    </tr>\n",
       "  </thead>\n",
       "  <tbody>\n",
       "    <tr>\n",
       "      <th>0</th>\n",
       "      <td>40.0</td>\n",
       "      <td>311.9</td>\n",
       "      <td>83.0</td>\n",
       "      <td>19,915.4</td>\n",
       "      <td>0</td>\n",
       "    </tr>\n",
       "    <tr>\n",
       "      <th>1</th>\n",
       "      <td>85.0</td>\n",
       "      <td>516.8</td>\n",
       "      <td>56.0</td>\n",
       "      <td>22,697.0</td>\n",
       "      <td>0</td>\n",
       "    </tr>\n",
       "    <tr>\n",
       "      <th>2</th>\n",
       "      <td>77.0</td>\n",
       "      <td>467.7</td>\n",
       "      <td>86.0</td>\n",
       "      <td>21,060.5</td>\n",
       "      <td>0</td>\n",
       "    </tr>\n",
       "    <tr>\n",
       "      <th>3</th>\n",
       "      <td>106.0</td>\n",
       "      <td>745.5</td>\n",
       "      <td>81.0</td>\n",
       "      <td>8,437.4</td>\n",
       "      <td>1</td>\n",
       "    </tr>\n",
       "    <tr>\n",
       "      <th>4</th>\n",
       "      <td>66.0</td>\n",
       "      <td>418.7</td>\n",
       "      <td>1.0</td>\n",
       "      <td>14,502.8</td>\n",
       "      <td>0</td>\n",
       "    </tr>\n",
       "  </tbody>\n",
       "</table>\n",
       "</div>"
      ],
      "text/plain": [
       "   calls  minutes  messages  mb_used  is_ultra\n",
       "0   40.0    311.9      83.0 19,915.4         0\n",
       "1   85.0    516.8      56.0 22,697.0         0\n",
       "2   77.0    467.7      86.0 21,060.5         0\n",
       "3  106.0    745.5      81.0  8,437.4         1\n",
       "4   66.0    418.7       1.0 14,502.8         0"
      ]
     },
     "metadata": {},
     "output_type": "display_data"
    },
    {
     "data": {
      "text/html": [
       "<div>\n",
       "<style scoped>\n",
       "    .dataframe tbody tr th:only-of-type {\n",
       "        vertical-align: middle;\n",
       "    }\n",
       "\n",
       "    .dataframe tbody tr th {\n",
       "        vertical-align: top;\n",
       "    }\n",
       "\n",
       "    .dataframe thead th {\n",
       "        text-align: right;\n",
       "    }\n",
       "</style>\n",
       "<table border=\"1\" class=\"dataframe\">\n",
       "  <thead>\n",
       "    <tr style=\"text-align: right;\">\n",
       "      <th></th>\n",
       "      <th>count</th>\n",
       "      <th>mean</th>\n",
       "      <th>std</th>\n",
       "      <th>min</th>\n",
       "      <th>25%</th>\n",
       "      <th>50%</th>\n",
       "      <th>75%</th>\n",
       "      <th>max</th>\n",
       "    </tr>\n",
       "  </thead>\n",
       "  <tbody>\n",
       "    <tr>\n",
       "      <th>calls</th>\n",
       "      <td>3,214.0</td>\n",
       "      <td>63.0</td>\n",
       "      <td>33.2</td>\n",
       "      <td>0.0</td>\n",
       "      <td>40.0</td>\n",
       "      <td>62.0</td>\n",
       "      <td>82.0</td>\n",
       "      <td>244.0</td>\n",
       "    </tr>\n",
       "    <tr>\n",
       "      <th>minutes</th>\n",
       "      <td>3,214.0</td>\n",
       "      <td>438.2</td>\n",
       "      <td>234.6</td>\n",
       "      <td>0.0</td>\n",
       "      <td>274.6</td>\n",
       "      <td>430.6</td>\n",
       "      <td>571.9</td>\n",
       "      <td>1,632.1</td>\n",
       "    </tr>\n",
       "    <tr>\n",
       "      <th>messages</th>\n",
       "      <td>3,214.0</td>\n",
       "      <td>38.3</td>\n",
       "      <td>36.1</td>\n",
       "      <td>0.0</td>\n",
       "      <td>9.0</td>\n",
       "      <td>30.0</td>\n",
       "      <td>57.0</td>\n",
       "      <td>224.0</td>\n",
       "    </tr>\n",
       "    <tr>\n",
       "      <th>mb_used</th>\n",
       "      <td>3,214.0</td>\n",
       "      <td>17,207.7</td>\n",
       "      <td>7,571.0</td>\n",
       "      <td>0.0</td>\n",
       "      <td>12,491.9</td>\n",
       "      <td>16,943.2</td>\n",
       "      <td>21,424.7</td>\n",
       "      <td>49,745.7</td>\n",
       "    </tr>\n",
       "    <tr>\n",
       "      <th>is_ultra</th>\n",
       "      <td>3,214.0</td>\n",
       "      <td>0.3</td>\n",
       "      <td>0.5</td>\n",
       "      <td>0.0</td>\n",
       "      <td>0.0</td>\n",
       "      <td>0.0</td>\n",
       "      <td>1.0</td>\n",
       "      <td>1.0</td>\n",
       "    </tr>\n",
       "  </tbody>\n",
       "</table>\n",
       "</div>"
      ],
      "text/plain": [
       "           count     mean     std  min      25%      50%      75%      max\n",
       "calls    3,214.0     63.0    33.2  0.0     40.0     62.0     82.0    244.0\n",
       "minutes  3,214.0    438.2   234.6  0.0    274.6    430.6    571.9  1,632.1\n",
       "messages 3,214.0     38.3    36.1  0.0      9.0     30.0     57.0    224.0\n",
       "mb_used  3,214.0 17,207.7 7,571.0  0.0 12,491.9 16,943.2 21,424.7 49,745.7\n",
       "is_ultra 3,214.0      0.3     0.5  0.0      0.0      0.0      1.0      1.0"
      ]
     },
     "metadata": {},
     "output_type": "display_data"
    },
    {
     "name": "stdout",
     "output_type": "stream",
     "text": [
      "<class 'pandas.core.frame.DataFrame'>\n",
      "RangeIndex: 3214 entries, 0 to 3213\n",
      "Data columns (total 5 columns):\n",
      " #   Column    Non-Null Count  Dtype  \n",
      "---  ------    --------------  -----  \n",
      " 0   calls     3214 non-null   float64\n",
      " 1   minutes   3214 non-null   float64\n",
      " 2   messages  3214 non-null   float64\n",
      " 3   mb_used   3214 non-null   float64\n",
      " 4   is_ultra  3214 non-null   int64  \n",
      "dtypes: float64(4), int64(1)\n",
      "memory usage: 125.7 KB\n"
     ]
    },
    {
     "data": {
      "text/plain": [
       "None"
      ]
     },
     "metadata": {},
     "output_type": "display_data"
    }
   ],
   "source": [
    "# откроем файл и изучим данные\n",
    "try:\n",
    "    df = pd.read_csv('/users_behavior.csv')\n",
    "except:\n",
    "    df = pd.read_csv('users_behavior.csv')\n",
    "# отобразим первые 5 строк датасета\n",
    "display(df.head())\n",
    "# отобразим распределение численных значений\n",
    "display(df.describe().transpose())\n",
    "# отобразим общую информацию по столбцам\n",
    "display(df.info())"
   ]
  },
  {
   "cell_type": "markdown",
   "metadata": {},
   "source": [
    "Столбец 'calls' содержит в себе информацию о количестве звонков. Среднее и медиана очень близки - 63 и 62 звонка, соответственно. В столбце неверный тип данных, необходимо изменить его на целочисленный.\n",
    "\n",
    "В столбце 'minutes' содержится информация о длительности звонков абонента за месяц. Среднее и медиана тут также довольно близки по значению- 438,2 и 430,6. \n",
    "\n",
    "В столбце 'messages' дана информация о количестве сообщений, отправленных абонентом за месяц. Здесь также необходимо заменить тип данных на целочисленный.\n",
    "\n",
    "В столбце 'mb_used' дана информация об использовании абонентами интернет-трафика в месяц в мегабайтах.\n",
    "\n",
    "В целом видим, что в данных нет пропусков и сильно выбивающихся значений в столбцах. Изменим тип данных на целочисленный в столбцах 'calls' и 'messages'."
   ]
  },
  {
   "cell_type": "code",
   "execution_count": 3,
   "metadata": {},
   "outputs": [
    {
     "name": "stdout",
     "output_type": "stream",
     "text": [
      "<class 'pandas.core.frame.DataFrame'>\n",
      "RangeIndex: 3214 entries, 0 to 3213\n",
      "Data columns (total 5 columns):\n",
      " #   Column    Non-Null Count  Dtype  \n",
      "---  ------    --------------  -----  \n",
      " 0   calls     3214 non-null   int32  \n",
      " 1   minutes   3214 non-null   float64\n",
      " 2   messages  3214 non-null   int32  \n",
      " 3   mb_used   3214 non-null   float64\n",
      " 4   is_ultra  3214 non-null   int64  \n",
      "dtypes: float64(2), int32(2), int64(1)\n",
      "memory usage: 100.6 KB\n"
     ]
    }
   ],
   "source": [
    "df['calls'] = df['calls'].astype('int')\n",
    "df['messages'] = df['messages'].astype('int')\n",
    "df.info()"
   ]
  },
  {
   "cell_type": "markdown",
   "metadata": {},
   "source": [
    "Изучим значения признаков, построив их распределение."
   ]
  },
  {
   "cell_type": "code",
   "execution_count": 4,
   "metadata": {},
   "outputs": [
    {
     "data": {
      "image/png": "[encoded data removed]",
      "text/plain": [
       "<Figure size 1440x1080 with 6 Axes>"
      ]
     },
     "metadata": {
      "needs_background": "light"
     },
     "output_type": "display_data"
    }
   ],
   "source": [
    "df.hist(bins=50, figsize=(20,15), color='r', edgecolor='black')\n",
    "plt.show()"
   ]
  },
  {
   "cell_type": "markdown",
   "metadata": {},
   "source": [
    "Абонентов тарифа \"Смарт\" почти в два раза больше, чем абонентов тарифа \"Ультра\". Распределения времени и количества звонков, а также использованного интернет-трафика носят характер, близкий к нормальному. При этом во времени и количестве звонков есть довольно большое количество выбросов, так как многие абоненты вообще не используют минуты. Распределение количества сообщений в месяц ближе к распределению Пуассона, однако здесь еще больше выбросов около нуля. Это может оказать негативное влияние на точность модели, поэтому при оценке точности можно попробовать обучать модели без данного признака.\n",
    "\n",
    "Рассмотрим информацию в столбце с количеством сообщений подробнее. Определим долю абонентов каждого из тарифов, не использующих сообщения. Разные доли могут привести к снижению точности предсказания моделей."
   ]
  },
  {
   "cell_type": "code",
   "execution_count": 5,
   "metadata": {},
   "outputs": [
    {
     "name": "stdout",
     "output_type": "stream",
     "text": [
      "Доля абонентов тарифа \"Ультра\", не использующих сообщения:  19.3%\n",
      "Доля абонентов тарифа \"Смарт\", не использующих сообщения:  13.8%\n"
     ]
    }
   ],
   "source": [
    "print(f'Доля абонентов тарифа \"Ультра\", не использующих сообщения: {len(df.query(\"messages == 0 and is_ultra == 1\")) / len(df[df[\"is_ultra\"] == 1]): .1%}')\n",
    "print(f'Доля абонентов тарифа \"Смарт\", не использующих сообщения: {len(df.query(\"messages == 0 and is_ultra == 0\")) / len(df[df[\"is_ultra\"] == 0]): .1%}')\n"
   ]
  },
  {
   "cell_type": "markdown",
   "metadata": {},
   "source": [
    "### Вывод\n",
    "\n",
    "После открытия файла и ознакомления с данными заменили тип данных на целочисленный в столбцах с информацией о количестве звонков и потраченных сообщениях. При выделении обучении моделей нужно уделить особое внимание столбцам с количеством звонков и с количеством сообщений. Количество звонков имеет распределение, похожее на количество минут разговора, но в этот столбец могут входить и звонки, оставшиеся без ответа, которые вряд ли влияют на выбор абонентом тарифа. Распределение количества сообщений имеет много выбросов около нуля. Это свидетельствует о том, что большое количество пользователей- 14% абонентов тарифа \"Смарт\" и 19% тарифа\"Ультра\"- вообще не отправляют сообщений, поэтому учет данного признака может привести к снижению точности моделей. Далее создадим четыре различных набора данных: один- со всеми признаками датасета, остальные три- исключая количество звонков, количество сообщений и исключая оба этих признака. Каждую модель протестируем на этих четырех наборах и выберем ту, которая покажет наилучший результат."
   ]
  },
  {
   "cell_type": "markdown",
   "metadata": {},
   "source": [
    "## Разбейте данные на выборки"
   ]
  },
  {
   "cell_type": "markdown",
   "metadata": {},
   "source": [
    "Разобъем данные на обучающую, валидационную и тестовую выборки в соотношении 3:1:1. В каждой выборке создадим переменные, содержащие признаки и целевой признак. Также создадим переменные для признаков и целевого признака для трех различных случаев: исключая количество звонков абонента, количество сообщений абонента и оба этих признака. Так мы получим возможность создать наиболее точную модель, если количество звонков абонента действительно дублирует столбец с минутами разговора, а количество сообщений не сильно влияет на выбор тарифа."
   ]
  },
  {
   "cell_type": "code",
   "execution_count": 6,
   "metadata": {},
   "outputs": [],
   "source": [
    "# создадим переменные для признаков и целевого признака в обучающей, валидационной и тестовой выборках\n",
    "features = df.drop('is_ultra', axis=1)\n",
    "target = df['is_ultra']\n",
    "features_train, features_test, target_train, target_test = train_test_split(features, target, test_size=0.2, random_state=12345)\n",
    "features_train, features_valid, target_train, target_valid = train_test_split(features_train, target_train, test_size=0.25, random_state=12345)\n",
    "\n",
    "# создадим переменные для признаков и целевого признака для трех случаев:\n",
    "\n",
    "# исключая количество звонков\n",
    "features_woc_train = features_train.drop(['calls'], axis=1)\n",
    "features_woc_valid = features_valid.drop(['calls'], axis=1)\n",
    "features_woc_test = features_test.drop(['calls'], axis=1)\n",
    "\n",
    "# исключая количество сообщений\n",
    "features_wom_train = features_train.drop(['messages'], axis=1)\n",
    "features_wom_valid = features_valid.drop(['messages'], axis=1)\n",
    "features_wom_test = features_test.drop(['messages'], axis=1)\n",
    "\n",
    "# исключая оба этих признака\n",
    "features_wob_train = features_train.drop(['calls', 'messages'], axis=1)\n",
    "features_wob_valid = features_valid.drop(['calls', 'messages'], axis=1)\n",
    "features_wob_test = features_test.drop(['calls', 'messages'], axis=1)\n",
    "features_wo_both = df.drop(['calls', 'messages', 'is_ultra'], axis=1)"
   ]
  },
  {
   "cell_type": "markdown",
   "metadata": {},
   "source": [
    "Рассмотрим результаты разбиения на выборки. Построим распределения количественных значений признаков в каждой выборке.\n"
   ]
  },
  {
   "cell_type": "code",
   "execution_count": 7,
   "metadata": {},
   "outputs": [
    {
     "data": {
      "text/plain": [
       "Text(0, 0.5, 'Доля абонентов')"
      ]
     },
     "execution_count": 7,
     "metadata": {},
     "output_type": "execute_result"
    },
    {
     "data": {
      "image/png": "[encoded data removed]",
      "text/plain": [
       "<Figure size 648x288 with 1 Axes>"
      ]
     },
     "metadata": {
      "needs_background": "light"
     },
     "output_type": "display_data"
    }
   ],
   "source": [
    "kwargs = {'kind':'kde', 'grid':True, 'figsize':(9,4), 'legend':'True'}\n",
    "ax = features_train['minutes'].plot( **kwargs)\n",
    "features_valid['minutes'].plot(**kwargs, ax=ax)\n",
    "features_test['minutes'].plot(**kwargs, ax=ax)\n",
    "ax.legend(['train', 'valid', 'test'])\n",
    "plt.xlabel('Время разговора, мин.')\n",
    "plt.ylabel('Доля абонентов')"
   ]
  },
  {
   "cell_type": "markdown",
   "metadata": {},
   "source": [
    "Время разговора абонентов в месяц распределяется в обучающей, валидационной и тестовой выборках практически одинаково. Небольшое отклонение в максимуме есть только у валидационной выборки."
   ]
  },
  {
   "cell_type": "code",
   "execution_count": 8,
   "metadata": {},
   "outputs": [
    {
     "data": {
      "text/plain": [
       "Text(0, 0.5, 'Доля абонентов')"
      ]
     },
     "execution_count": 8,
     "metadata": {},
     "output_type": "execute_result"
    },
    {
     "data": {
      "image/png": "[encoded data removed]",
      "text/plain": [
       "<Figure size 648x288 with 1 Axes>"
      ]
     },
     "metadata": {
      "needs_background": "light"
     },
     "output_type": "display_data"
    }
   ],
   "source": [
    "ax = features_train['mb_used'].plot( **kwargs)\n",
    "features_valid['mb_used'].plot(**kwargs, ax=ax)\n",
    "features_test['mb_used'].plot(**kwargs, ax=ax)\n",
    "ax.legend(['train', 'valid', 'test'])\n",
    "plt.xlabel('Объем потраченного трафика, МБ.')\n",
    "plt.ylabel('Доля абонентов')"
   ]
  },
  {
   "cell_type": "markdown",
   "metadata": {},
   "source": [
    "Распределение трафика по абонентам во всех трех выборках одинаковое."
   ]
  },
  {
   "cell_type": "code",
   "execution_count": 9,
   "metadata": {
    "scrolled": true
   },
   "outputs": [
    {
     "data": {
      "text/plain": [
       "Text(0, 0.5, 'Доля абонентов')"
      ]
     },
     "execution_count": 9,
     "metadata": {},
     "output_type": "execute_result"
    },
    {
     "data": {
      "image/png": "[encoded data removed]",
      "text/plain": [
       "<Figure size 648x288 with 1 Axes>"
      ]
     },
     "metadata": {
      "needs_background": "light"
     },
     "output_type": "display_data"
    }
   ],
   "source": [
    "ax = features_train['messages'].plot( **kwargs)\n",
    "features_valid['messages'].plot(**kwargs, ax=ax)\n",
    "features_test['messages'].plot(**kwargs, ax=ax)\n",
    "ax.legend(['train', 'valid', 'test'])\n",
    "plt.xlabel('Количество сообщений')\n",
    "plt.ylabel('Доля абонентов')"
   ]
  },
  {
   "cell_type": "markdown",
   "metadata": {},
   "source": [
    "Распределение количества сообщений по абонентам в выборках имеет одинаковую форму, но разные значения. Скорее всего, это связано с большим количеством выбросов около нуля."
   ]
  },
  {
   "cell_type": "code",
   "execution_count": 10,
   "metadata": {},
   "outputs": [
    {
     "data": {
      "text/plain": [
       "Text(0, 0.5, 'Доля абонентов')"
      ]
     },
     "execution_count": 10,
     "metadata": {},
     "output_type": "execute_result"
    },
    {
     "data": {
      "image/png": "[encoded data removed]",
      "text/plain": [
       "<Figure size 648x288 with 1 Axes>"
      ]
     },
     "metadata": {
      "needs_background": "light"
     },
     "output_type": "display_data"
    }
   ],
   "source": [
    "ax = features_train['calls'].plot( **kwargs)\n",
    "features_valid['calls'].plot(**kwargs, ax=ax)\n",
    "features_test['calls'].plot(**kwargs, ax=ax)\n",
    "ax.legend(['train', 'valid', 'test'])\n",
    "plt.xlabel('Количество звонков')\n",
    "plt.ylabel('Доля абонентов')"
   ]
  },
  {
   "cell_type": "markdown",
   "metadata": {},
   "source": [
    "Распределение количества звонков во всех трех выборках практически одинаковое."
   ]
  },
  {
   "cell_type": "markdown",
   "metadata": {},
   "source": [
    "### Вывод\n",
    "\n",
    "При разбиении данных на обучающую, валидационную и тестовую выборки приняли соотношение 3:1:1. Распределения значений в итоговых выборках близки, что должно повлиять положительно на точность моделей. Добавили также обучающие, валидационные и тестовые выборки, исключая некоторые признаки: количество звонков, количество сообщений и оба этих признака вместе. Далее проверим, какой из наборов признаков дает наибольшую точность модели."
   ]
  },
  {
   "cell_type": "markdown",
   "metadata": {},
   "source": [
    "## Исследуйте модели\n",
    "\n",
    "Для начала попробуем использовать модель логистической регрессии."
   ]
  },
  {
   "cell_type": "code",
   "execution_count": 11,
   "metadata": {
    "scrolled": false
   },
   "outputs": [
    {
     "name": "stdout",
     "output_type": "stream",
     "text": [
      "Точность модели логистической регрессии со всеми признаками на обучающей выборке:  75.1%, на валидационной выборке:  72.6%\n",
      "Без учета количества звонков на обучающей выборке:  75.1%, на валидационной выборке:  72.6%\n",
      "Без учета количества сообщений на обучающей выборке:  69.5%, на валидационной выборке:  68.9%\n",
      "Без учета количества звонков и сообщений на обучающей выборке:  69.5%, на валидационной выборке:  68.9%\n"
     ]
    }
   ],
   "source": [
    "def log_reg_accuracy(features_train, features_valid, target_train, target_valid):\n",
    "    model = LogisticRegression(random_state=12345, solver='lbfgs', max_iter=10000)\n",
    "    model.fit(features_train, target_train)\n",
    "    train_predictions = model.predict(features_train)\n",
    "    valid_predictions = model.predict(features_valid)\n",
    "    return (f'на обучающей выборке: {accuracy_score(target_train, train_predictions): .1%}, на валидационной выборке: {accuracy_score(target_valid, valid_predictions): .1%}')\n",
    "\n",
    "print('Точность модели логистической регрессии со всеми признаками',\n",
    "      log_reg_accuracy(features_train, features_valid, target_train, target_valid))\n",
    "\n",
    "print('Без учета количества звонков',\n",
    "      log_reg_accuracy(features_woc_train, features_woc_valid, target_train, target_valid))\n",
    "\n",
    "print('Без учета количества сообщений',\n",
    "      log_reg_accuracy(features_wom_train, features_wom_valid, target_train, target_valid))\n",
    "\n",
    "print('Без учета количества звонков и сообщений',\n",
    "      log_reg_accuracy(features_wob_train, features_wob_valid, target_train, target_valid))"
   ]
  },
  {
   "cell_type": "markdown",
   "metadata": {},
   "source": [
    "При использовании модели логистической регрессии точность предсказания на всех признаках и без учета количества звонков имеет одинаковое значение. Точность модели без учета сообщений вопреки ожиданиям даже ниже, чем со всеми признаками. Точность модели без учета количества звонков и сообщений идентична точности модели без учеьа количества сообщений.\n",
    "\n",
    "Далее проверим точность модели дерева решений."
   ]
  },
  {
   "cell_type": "code",
   "execution_count": 12,
   "metadata": {},
   "outputs": [
    {
     "name": "stdout",
     "output_type": "stream",
     "text": [
      "Точность модели дерева решений со всеми признаками на обучающей выборке:  82.1%, на валидационной выборке:  76.4%, глубина дерева: 4\n",
      "Без учета количества звонков на обучающей выборке:  81.2%, на валидационной выборке:  76.5%, глубина дерева: 3\n",
      "Без учета количества сообщений на обучающей выборке:  79.9%, на валидационной выборке:  76.2%, глубина дерева: 3\n",
      "Без учета количества звонков и сообщений на обучающей выборке:  79.2%, на валидационной выборке:  75.7%, глубина дерева: 2\n"
     ]
    }
   ],
   "source": [
    "def des_tree_accuracy(features_train, features_valid, target_train, target_valid):\n",
    "    for depth in (1, len(features_train.columns)):\n",
    "        best_result = 0\n",
    "        model = DecisionTreeClassifier(max_depth = depth, random_state=12345)\n",
    "        model.fit(features_train, target_train)\n",
    "        result = model.score(features_valid, target_valid)\n",
    "        if result > best_result:\n",
    "            best_result = result\n",
    "            best_model = model\n",
    "            best_depth = depth\n",
    "        train_predictions = best_model.predict(features_train)\n",
    "        valid_predictions = best_model.predict(features_valid)\n",
    "    return (f'на обучающей выборке: {accuracy_score(target_train, train_predictions): .1%}, на валидационной выборке: {accuracy_score(target_valid, valid_predictions): .1%}, глубина дерева: {best_depth}')\n",
    "\n",
    "print('Точность модели дерева решений со всеми признаками',\n",
    "      des_tree_accuracy(features_train, features_valid, target_train, target_valid))\n",
    "\n",
    "print('Без учета количества звонков',\n",
    "      des_tree_accuracy(features_woc_train, features_woc_valid, target_train, target_valid))\n",
    "\n",
    "print('Без учета количества сообщений',\n",
    "      des_tree_accuracy(features_wom_train, features_wom_valid, target_train, target_valid))\n",
    "\n",
    "print('Без учета количества звонков и сообщений',\n",
    "      des_tree_accuracy(features_wob_train, features_wob_valid, target_train, target_valid))"
   ]
  },
  {
   "cell_type": "markdown",
   "metadata": {},
   "source": [
    "В случае использования модели дерева решений лучший результат также показывают наборы данных с включением всех признаков и с исключением количества звонков. Точность на валидационный выборке для них практически одинакова, однако во втором случае точность на обучающей выборке меньше на 1%. Так как разница между точностью на обучающей и валидационной выборках меньше во втором случае, примем ее как окончательную.\n",
    "\n",
    "Далее протестируем модель случайного леса."
   ]
  },
  {
   "cell_type": "code",
   "execution_count": 13,
   "metadata": {},
   "outputs": [
    {
     "name": "stdout",
     "output_type": "stream",
     "text": [
      "Точность модели случайного леса со всеми признаками на обучающей выборке:  80.5%, на валидационной выборке:  76.7%, количество деревьев: 5, глубина: 4\n",
      "Без учета количества звонков на обучающей выборке:  80.8%, на валидационной выборке:  77.0%, количество деревьев: 5, глубина: 3\n",
      "Без учета количества сообщений на обучающей выборке:  80.1%, на валидационной выборке:  76.8%, количество деревьев: 5, глубина: 3\n",
      "Без учета количества звонков и сообщений на обучающей выборке:  79.0%, на валидационной выборке:  76.0%, количество деревьев: 5, глубина: 2\n"
     ]
    }
   ],
   "source": [
    "def rand_forest_accuracy(features_train, features_valid, target_train, target_valid):\n",
    "    for est in (1, 5):\n",
    "        for depth in (1, len(features_train.columns)):\n",
    "            best_result = 0\n",
    "            model = RandomForestClassifier(max_depth = depth, n_estimators = est, random_state=12345)\n",
    "            model.fit(features_train, target_train)\n",
    "            result = model.score(features_valid, target_valid)\n",
    "            if result > best_result:\n",
    "                best_model = model\n",
    "                best_depth = depth\n",
    "                best_est = est\n",
    "    train_predictions = model.predict(features_train)\n",
    "    valid_predictions = model.predict(features_valid)\n",
    "    return (f'на обучающей выборке: {accuracy_score(target_train, train_predictions): .1%}, на валидационной выборке: {accuracy_score(target_valid, valid_predictions): .1%}, количество деревьев: {best_est}, глубина: {best_depth}')\n",
    "\n",
    "print('Точность модели случайного леса со всеми признаками',\n",
    "       rand_forest_accuracy(features_train, features_valid, target_train, target_valid))\n",
    "\n",
    "print('Без учета количества звонков',\n",
    "      rand_forest_accuracy(features_woc_train, features_woc_valid, target_train, target_valid))\n",
    "\n",
    "print('Без учета количества сообщений',\n",
    "      rand_forest_accuracy(features_wom_train, features_wom_valid, target_train, target_valid))\n",
    "\n",
    "print('Без учета количества звонков и сообщений',\n",
    "      rand_forest_accuracy(features_wob_train, features_wob_valid, target_train, target_valid))"
   ]
  },
  {
   "cell_type": "markdown",
   "metadata": {},
   "source": [
    "При использовании модели случайного леса наибольшую точность на валидационной выборке показывает набор данных с исключением количества звонков пользователя - 77%. Стоит отметить, что и на остальных наборах данных модель показывает точность лишь немногим меньше."
   ]
  },
  {
   "cell_type": "markdown",
   "metadata": {},
   "source": [
    "### Вывод\n",
    "\n",
    "При тестировании различных моделей на обучающей и валидационной выборках наихудший результат предсказания показала модель логистической регрессии. Лучшие результаты предсказания на валидационной выборке- у модели случайного леса - 77%. При использовании модели решающего дерева точность на обучающей выборке с различными наборами признаков составляет около 80%, а на валидиационной доходит до 76,5%. По условиям проекта минимальная точность модели составляет 75%. Так как модели дерева решений и случайного леса показывают примерно одинаковую точность на валидационных выборках, окончательный выбор модели сделаем после проверки их точности на тестовой выборке. Обучать обе модели будем на наборе данных без учета количества звонков абонента- в обоих случаях точность моделей, обученных на данном наборе данных, оказалась выше."
   ]
  },
  {
   "cell_type": "markdown",
   "metadata": {},
   "source": [
    "## Проверьте модель на тестовой выборке"
   ]
  },
  {
   "cell_type": "code",
   "execution_count": 14,
   "metadata": {},
   "outputs": [
    {
     "name": "stdout",
     "output_type": "stream",
     "text": [
      "Точность модели решающего дерева с исключением количества звонков абонента и глубиной дерева равной 3 составляет  78.69%\n"
     ]
    }
   ],
   "source": [
    "model = DecisionTreeClassifier(random_state=12345, max_depth=3)\n",
    "model.fit(features_woc_train, target_train)\n",
    "predictions_test = model.predict(features_woc_test)\n",
    "des_tree_accuracy = accuracy_score(target_test, predictions_test)\n",
    "print(f'Точность модели решающего дерева с исключением количества звонков абонента и глубиной дерева равной 3 составляет {des_tree_accuracy: .2%}')"
   ]
  },
  {
   "cell_type": "code",
   "execution_count": 15,
   "metadata": {},
   "outputs": [
    {
     "name": "stdout",
     "output_type": "stream",
     "text": [
      "Точность модели решающего дерева с исключением количества звонков абонента и глубиной дерева равной 3 составляет  79.78%\n"
     ]
    }
   ],
   "source": [
    "model = RandomForestClassifier(n_estimators = 5, max_depth = 3, random_state=12345)\n",
    "model.fit(features_woc_train, target_train)\n",
    "predictions_test = model.predict(features_woc_test)\n",
    "rand_forest_accuracy = accuracy_score(target_test, predictions_test)\n",
    "print(f'Точность модели решающего дерева с исключением количества звонков абонента и глубиной дерева равной 3 составляет {rand_forest_accuracy: .2%}')"
   ]
  },
  {
   "cell_type": "markdown",
   "metadata": {},
   "source": [
    "### Вывод\n",
    "\n",
    "На тестовой выборке точность обеих моделей также осталась достаточно высокой и даже превышает точность на валидационной выборке. При этом точность модели случайного леса немного выше точности модели решающего дерева, поэтому окончательно для прогнозирования подходящего тарифа для пользователей выберем модель случайного леса с количеством деревьев, равным 5, и глубиной дерева, равной 3."
   ]
  },
  {
   "cell_type": "markdown",
   "metadata": {},
   "source": [
    "## Проверьте модели на адекватность\n",
    "\n",
    "Проверим модель на адекватность. Для этого создадим три набора данных для целевого признака- со случайным заполнением строк, с заполнением значением 0 и с заполнением значением 1. Для всех трех из них выведем на экран accuracy_score и сравним его с точностью выбранной модели- 79,8%."
   ]
  },
  {
   "cell_type": "code",
   "execution_count": 16,
   "metadata": {},
   "outputs": [
    {
     "name": "stdout",
     "output_type": "stream",
     "text": [
      "Точность со случайными значениями признака составляет  49.0%\n",
      "Точность с нулевыми значениями признака составляет  69.5%\n",
      "Точность со значениями признака, равными единице, составляет  30.5%\n"
     ]
    }
   ],
   "source": [
    "check_columns = pd.DataFrame(np.random.randint(0, 2, size=(len(features_test), 1)), columns=['random'])\n",
    "check_columns['only_false'] = 0\n",
    "check_columns['only_true'] = 1\n",
    "check_columns.head(10)\n",
    "print(f'Точность со случайными значениями признака составляет {accuracy_score(target_test, check_columns[\"random\"]): .1%}')\n",
    "print(f'Точность с нулевыми значениями признака составляет {accuracy_score(target_test, check_columns[\"only_false\"]): .1%}')\n",
    "print(f'Точность со значениями признака, равными единице, составляет {accuracy_score(target_test, check_columns[\"only_true\"]): .1%}')"
   ]
  },
  {
   "cell_type": "markdown",
   "metadata": {},
   "source": [
    "### Вывод\n",
    "\n",
    "Точность модели случайного леса на тестовой выборке составляет 79,8%. При заполнении признака случайными значениями точность предсказания колеблется около 50%. При заполнении нулевыми значениями и единицей точность предсказания составляет 69,5% и 30,5%, так как абонентов тарифа \"Смарт\" больше и, как следствие, значений целевого признака, равных нулю, также больше. В любом случае точность всех трех предсказаний значительно ниже точности выбранной модели, что подтверждает ее адекватность."
   ]
  },
  {
   "cell_type": "markdown",
   "metadata": {},
   "source": [
    "## Общий вывод\n",
    "\n",
    "В ходе выполнения проекта были загружены и изучены данные об использовании абонентами тарифов \"Ультра\" и \"Смарт\". В исходном датасете дана информация о количестве звонков, длительности разговоров, количестве сообщений и количестве использованного трафика абонентами тарифов в месяц. \n",
    "\n",
    "Для обучения данные были разбиты на обучающую, валидационную и тестовую выборки в соотношении 3:1:1. Также были созданы различные выборки- с полным набором признаков, с исключением количества звонков, количества сообщений и с исключением обоих признаков. Для всех наборов данных были использованы модели логистической регрессии, дерева решений и случайного леса. Для последних двух моделей в цикле были рассмотрены различные гиперпараметры для получения наилучшей точности выбранной модели. Обе они показали хороший результат и были проверены на тестовой выборке. В результате была выбрана модель случайного леса с исключением количества звонков абонента глубиной дерева, равной 3, и количеством деревьев, равным 5.\n",
    "\n",
    "На тестовой выборке окончательно выбранная модель показывает точность 79,8%.\n",
    "\n",
    "Адекватность модели была проверена путем сравнения целевого признака тестовой выборки со случайными значениями, нулевыми значениями и значениями, равными единице. Во всех трех случаях точность предсказания получилась значительно ниже 79,8%, что говорит в пользу адекватности выбранной модели.\n",
    "\n",
    "Пороговым значением выполнения проекта установлено 75%. Учитывая полученную точность выбранной модели на тестовой выборке в 79,8% можем сделать вывод, что проект выполнен в полном объеме."
   ]
  }
 ],
 "metadata": {
  "ExecuteTimeLog": [
   {
    "duration": 1875,
    "start_time": "2022-03-31T13:36:48.181Z"
   },
   {
    "duration": 118,
    "start_time": "2022-03-31T13:36:50.058Z"
   },
   {
    "duration": 15,
    "start_time": "2022-03-31T13:36:50.178Z"
   },
   {
    "duration": 1388,
    "start_time": "2022-03-31T13:36:50.196Z"
   },
   {
    "duration": 14,
    "start_time": "2022-03-31T13:36:51.586Z"
   },
   {
    "duration": 43,
    "start_time": "2022-03-31T13:36:51.602Z"
   },
   {
    "duration": 347,
    "start_time": "2022-03-31T13:36:51.648Z"
   },
   {
    "duration": 340,
    "start_time": "2022-03-31T13:36:51.998Z"
   },
   {
    "duration": 345,
    "start_time": "2022-03-31T13:36:52.340Z"
   },
   {
    "duration": 233,
    "start_time": "2022-03-31T13:36:52.688Z"
   },
   {
    "duration": 79,
    "start_time": "2022-03-31T13:36:52.922Z"
   },
   {
    "duration": 74,
    "start_time": "2022-03-31T13:36:53.003Z"
   },
   {
    "duration": 5109,
    "start_time": "2022-03-31T13:36:53.079Z"
   },
   {
    "duration": 11,
    "start_time": "2022-03-31T13:36:58.190Z"
   },
   {
    "duration": 13,
    "start_time": "2022-03-31T13:36:58.203Z"
   },
   {
    "duration": 47,
    "start_time": "2022-04-14T11:01:20.250Z"
   }
  ],
  "kernelspec": {
   "display_name": "Python 3 (ipykernel)",
   "language": "python",
   "name": "python3"
  },
  "language_info": {
   "codemirror_mode": {
    "name": "ipython",
    "version": 3
   },
   "file_extension": ".py",
   "mimetype": "text/x-python",
   "name": "python",
   "nbconvert_exporter": "python",
   "pygments_lexer": "ipython3",
   "version": "3.9.12"
  },
  "toc": {
   "base_numbering": 1,
   "nav_menu": {},
   "number_sections": true,
   "sideBar": true,
   "skip_h1_title": true,
   "title_cell": "Table of Contents",
   "title_sidebar": "Contents",
   "toc_cell": false,
   "toc_position": {},
   "toc_section_display": true,
   "toc_window_display": true
  }
 },
 "nbformat": 4,
 "nbformat_minor": 2
}
